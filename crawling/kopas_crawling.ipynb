{
  "nbformat": 4,
  "nbformat_minor": 0,
  "metadata": {
    "kernelspec": {
      "display_name": "Python 3",
      "language": "python",
      "name": "python3"
    },
    "language_info": {
      "codemirror_mode": {
        "name": "ipython",
        "version": 3
      },
      "file_extension": ".py",
      "mimetype": "text/x-python",
      "name": "python",
      "nbconvert_exporter": "python",
      "pygments_lexer": "ipython3",
      "version": "3.7.3"
    },
    "colab": {
      "name": "kopas_crawling.ipynb",
      "provenance": [],
      "collapsed_sections": []
    }
  },
  "cells": [
    {
      "cell_type": "markdown",
      "metadata": {
        "id": "W-liPpbeE_b3",
        "colab_type": "text"
      },
      "source": [
        "BeautifulSoup 및 Selenium을 이용한 고파스 크롤링.\n",
        "\n",
        "'호랑이광장' 게시판의 게시물 및 댓글/대댓글 수집해 csv파일로 작성.\n",
        "\n",
        "ID/비밀번호 정보는 XXXX로 바꾸어 업로드."
      ]
    },
    {
      "cell_type": "code",
      "metadata": {
        "scrolled": false,
        "id": "j6fqo-RqBeKj",
        "colab_type": "code",
        "colab": {}
      },
      "source": [
        "import re\n",
        "import csv\n",
        "from selenium import webdriver\n",
        "from bs4 import BeautifulSoup as bs\n",
        "driver = webdriver.Chrome('C:\\\\Users\\\\goldh\\\\advEngPhone\\\\Midterm\\\\Crawling practice\\\\chromedriver.exe')\n",
        "driver.get('https://www.koreapas.com/bbs/main.php')\n",
        "driver.find_element_by_name('user_id').send_keys('XXXX')\n",
        "driver.find_element_by_name('password').send_keys('XXXX')\n",
        "driver.find_element_by_xpath('//*[@class=\"btn_login btn-small\"]').click()\n",
        "url = 'https://www.koreapas.com/bbs/view.php?id=tiger&no='"
      ],
      "execution_count": 0,
      "outputs": []
    },
    {
      "cell_type": "code",
      "metadata": {
        "scrolled": true,
        "id": "-CBZKJpCBeKo",
        "colab_type": "code",
        "colab": {}
      },
      "source": [
        "#시작하는 게시물 넘버링 설정\n",
        "num = int(input())\n",
        "\n",
        "#게시물 5000개 단위로 크롤링 후 저장.\n",
        "with open('kopas_'+str(num)+'-'+str(int(num)+5000)+'.csv', 'w',encoding='utf-8') as f: # 이거로 파일 열어오면, 나중에 f.close 까먹어도 사단 날 일이 없다.\n",
        "    writer = csv.writer(f)\n",
        "    writer.writerow(['main', 'reply_num', 'connection', 'reply'])\n",
        "    for i in range(330000,335001):\n",
        "        url_use = url+str(i)\n",
        "        driver.get(url_use)\n",
        "        html = driver.page_source\n",
        "        bsobject = bs(html, 'html.parser')\n",
        "         \n",
        "        try:\n",
        "            text_body = bsobject.find(\"div\",itemprop=\"articleBody\").get_text().strip() #본문 획득\n",
        "            replies = bsobject.find_all(\"td\", align=\"left\", style=['word-break:break-word;padding-top:4px;font-size:15px;', \"word-break:break-word;padding-top:4px;font-size:18px;\"] )\n",
        "            # 댓글 획득\n",
        "            if replies == []:\n",
        "                continue\n",
        "            sorted_replies = [] \n",
        "            # 댓글 중 신고 파트 및 앞 뒤 \\n 제거\n",
        "            writer.writerow([text_body,'0','',''])\n",
        "            for reply in replies:\n",
        "                unwanted = reply.find('span')\n",
        "                unwanted.extract()\n",
        "                sorted_replies.append(reply.get_text().strip())\n",
        "            for line in sorted_replies:\n",
        "                reply_num = str(sorted_replies.index(line)+1)\n",
        "                connection = {'0/'}\n",
        "                try: # 텍스트 없는 댓글 생략\n",
        "                    connection_reply = re.findall('(\\d+)/',line)\n",
        "                    connection = set(connection_reply)\n",
        "                    line = re.sub('\\d/','',line)                  \n",
        "                    \n",
        "                except:\n",
        "                    pass\n",
        "                writer.writerow([i, reply_num, connection, line])\n",
        "        except:\n",
        "            continue\n",
        "    f.close()"
      ],
      "execution_count": 0,
      "outputs": []
    }
  ]
}