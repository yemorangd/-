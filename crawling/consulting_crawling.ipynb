{
  "nbformat": 4,
  "nbformat_minor": 0,
  "metadata": {
    "colab": {
      "name": "consulting_crawling.ipynb",
      "provenance": [],
      "collapsed_sections": []
    },
    "kernelspec": {
      "display_name": "Python 3",
      "language": "python",
      "name": "python3"
    },
    "language_info": {
      "codemirror_mode": {
        "name": "ipython",
        "version": 3
      },
      "file_extension": ".py",
      "mimetype": "text/x-python",
      "name": "python",
      "nbconvert_exporter": "python",
      "pygments_lexer": "ipython3",
      "version": "3.7.1"
    }
  },
  "cells": [
    {
      "cell_type": "markdown",
      "metadata": {
        "id": "zceSiQPzJtBB",
        "colab_type": "text"
      },
      "source": [
        "네이버 고민상담카페의 게시물을 크롤링하는 코드.\n",
        "\n",
        "게시물 넘버링 기반으로 크롤링을 진행하여 csv 파일에 저장하고, 만일 글이 삭제되었을 경우 오류 메시지를 출력."
      ]
    },
    {
      "cell_type": "code",
      "metadata": {
        "colab_type": "code",
        "id": "aw9EpPKz4waG",
        "colab": {}
      },
      "source": [
        "import urllib.request\n",
        "import random\n",
        "import time\n",
        "from selenium import webdriver\n",
        "from bs4 import BeautifulSoup \n",
        "import csv\n",
        " \n",
        "driver = webdriver.Chrome(executable_path = \"C:/Users/...../chromedriver.exe\")\n",
        "driver.implicitly_wait(3)\n",
        "\n",
        "#각종 설정\n",
        "id = 'XXXXX'\n",
        "pw = 'XXXXX'\n",
        "cafe_id = 10577860\n",
        "MAX_POSTS = 477029"
      ],
      "execution_count": 0,
      "outputs": []
    },
    {
      "cell_type": "code",
      "metadata": {
        "id": "gwZ17icMIye8",
        "colab_type": "code",
        "colab": {}
      },
      "source": [
        "#네이버 로그인\n",
        "driver.get(\"https://nid.naver.com/nidlogin.login\")\n",
        "driver.find_element_by_id(\"id\").send_keys(id)\n",
        "driver.find_element_by_id(\"pw\").send_keys(pw)\n",
        "driver.find_element_by_xpath('//*[@id=\"frmNIDLogin\"]/fieldset/input').click()\n",
        "time.sleep(15)"
      ],
      "execution_count": 0,
      "outputs": []
    },
    {
      "cell_type": "code",
      "metadata": {
        "id": "qKI5UuUCIye_",
        "colab_type": "code",
        "colab": {}
      },
      "source": [
        "url_cafe_base = 'https://cafe.naver.com/ArticleRead.nhn?clubid=' + str(cafe_id) + '&page=1&boardtype=L&articleid='\n",
        "url_cafe_extra = '&referrerAllArticles=true'"
      ],
      "execution_count": 0,
      "outputs": []
    },
    {
      "cell_type": "code",
      "metadata": {
        "id": "bHbQUfdKIyfA",
        "colab_type": "code",
        "colab": {}
      },
      "source": [
        "idx = 0\n",
        "\n",
        "f = open('allPosts.csv', 'w', encoding='utf-8', newline='')\n",
        "writer = csv.writer(f)\n",
        "writer.writerow(['번호', '제목', '내용', '댓글'])\n",
        "\n",
        "for i in range(MAX_POSTS, MAX_POSTS - 20, -1): # 20개 단위로 크롤링\n",
        "    #open post which index is i\n",
        "    try:\n",
        "        url_cafe = url_cafe_base + str(i) + url_cafe_extra\n",
        "        driver.get(url_cafe)\n",
        "        driver.switch_to.frame('cafe_main')\n",
        "        html = driver.page_source\n",
        "        soup = BeautifulSoup(html, 'html.parser')\n",
        "    except :\n",
        "        print(i, \" 번째 게시글이 존재하지 않습니다!\")\n",
        "        continue\n",
        "\n",
        "    #get title and content of this post\n",
        "    title = soup.select_one('span[class=\"b m-tcol-c\"]').string\n",
        "    content_tags = soup.select('#tbody p')\n",
        "    content = ''.join([tags.get_text() for tags in content_tags])\n",
        "\n",
        "    #get all replies of this post as reply\n",
        "    replies = []\n",
        "    reply = ''\n",
        "    tag_all = soup.body.find('ul', id='cmt_list')\n",
        "    for k in tag_all:\n",
        "       if k.find_all('span', class_='comm_body'):\n",
        "            replies.append(k.div.find('span', class_=\"comm_body\").get_text(strip=True))\n",
        "    for i in replies:\n",
        "        reply = reply + i + '\\n'\n",
        "\n",
        "    writer.writerow([str(idx), title, content, reply])\n",
        "    idx += 1\n",
        "\n",
        "f.close()"
      ],
      "execution_count": 0,
      "outputs": []
    }
  ]
}